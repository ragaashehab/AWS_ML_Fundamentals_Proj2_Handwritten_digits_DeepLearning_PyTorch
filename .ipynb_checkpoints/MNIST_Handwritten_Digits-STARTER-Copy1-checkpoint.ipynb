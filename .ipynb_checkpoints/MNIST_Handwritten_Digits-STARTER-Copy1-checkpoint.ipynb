{
 "cells": [
  {
   "cell_type": "markdown",
   "metadata": {},
   "source": [
    "# Introduction\n",
    "\n",
    "In this project, you will build a neural network of your own design to evaluate the MNIST dataset.\n",
    "\n",
    "Some of the benchmark results on MNIST include can be found [on Yann LeCun's page](http://yann.lecun.com/exdb/mnist/) and include:\n",
    "\n",
    "88% [Lecun et al., 1998](http://yann.lecun.com/exdb/publis/pdf/lecun-98.pdf)\n",
    "95.3% [Lecun et al., 1998](http://yann.lecun.com/exdb/publis/pdf/lecun-98.pdf)\n",
    "99.65% [Ciresan et al., 2011](http://people.idsia.ch/~juergen/ijcai2011.pdf)\n",
    "\n",
    "MNIST is a great dataset for sanity checking your models, since the accuracy levels achieved by large convolutional neural networks and small linear models are both quite high. This makes it important to be familiar with the data.\n",
    "\n",
    "## Imports"
   ]
  },
  {
   "cell_type": "code",
   "execution_count": 1,
   "metadata": {},
   "outputs": [],
   "source": [
    "## This cell contains the essential imports you will need – DO NOT CHANGE THE CONTENTS! ##\n",
    "import os\n",
    "import torch\n",
    "import torch.nn as nn\n",
    "import torch.nn.functional as F\n",
    "import torch.optim as optim\n",
    "from torch.utils.data import DataLoader\n",
    "import torchvision\n",
    "import torchvision.transforms as transforms\n",
    "from torchvision import datasets\n",
    "import matplotlib.pyplot as plt\n",
    "import numpy as np"
   ]
  },
  {
   "cell_type": "markdown",
   "metadata": {},
   "source": [
    "## Load the Dataset\n",
    "\n",
    "Specify your transforms as a list if you intend to .\n",
    "The transforms module is already loaded as `transforms`.\n",
    "\n",
    "MNIST is fortunately included in the torchvision module.\n",
    "Then, you can create your dataset using the `MNIST` object from `torchvision.datasets` ([the documentation is available here](https://pytorch.org/vision/stable/datasets.html#mnist)).\n",
    "Make sure to specify `download=True`! \n",
    "\n",
    "Once your dataset is created, you'll also need to define a `DataLoader` from the `torch.utils.data` module for both the train and the test set."
   ]
  },
  {
   "cell_type": "code",
   "execution_count": 2,
   "metadata": {},
   "outputs": [],
   "source": [
    "# Define transforms\n",
    "## YOUR CODE HERE ##\n",
    "transform = transforms.Compose([transforms.ToTensor(), transforms.Normalize((0.5), (0.5))])\n",
    "\n",
    "# Create training set and define training dataloader\n",
    "## YOUR CODE HERE ##\n",
    "training_data = datasets.MNIST(root=\"./data\", train=True, download=True, transform=transform)\n",
    "train_loader = DataLoader(training_data, batch_size= 100, shuffle=True)\n",
    "\n",
    "# Create test set and define test dataloader\n",
    "## YOUR CODE HERE ##\n",
    "test_data = datasets.MNIST(root=\"./data\", train=False, download=True, transform=transform)\n",
    "test_loader = DataLoader(test_data, batch_size= 100)"
   ]
  },
  {
   "cell_type": "code",
   "execution_count": 3,
   "metadata": {},
   "outputs": [
    {
     "data": {
      "text/plain": [
       "600"
      ]
     },
     "execution_count": 3,
     "metadata": {},
     "output_type": "execute_result"
    }
   ],
   "source": [
    "len(train_loader)"
   ]
  },
  {
   "cell_type": "code",
   "execution_count": 4,
   "metadata": {},
   "outputs": [
    {
     "data": {
      "text/plain": [
       "100"
      ]
     },
     "execution_count": 4,
     "metadata": {},
     "output_type": "execute_result"
    }
   ],
   "source": [
    "len(test_loader)"
   ]
  },
  {
   "cell_type": "markdown",
   "metadata": {},
   "source": [
    "## Justify your preprocessing\n",
    "\n",
    "In your own words, why did you choose the transforms you chose? If you didn't use any preprocessing steps, why not?"
   ]
  },
  {
   "cell_type": "markdown",
   "metadata": {},
   "source": [
    "**DOUBLE CLICK THIS CELL TO MODIFY**\n",
    "The digits have been size-normalized and centered in a fixed-size image. no need for preprocessing and formatting."
   ]
  },
  {
   "cell_type": "markdown",
   "metadata": {},
   "source": [
    "## Explore the Dataset\n",
    "Using matplotlib, numpy, and torch, explore the dimensions of your data.\n",
    "\n",
    "You can view images using the `show5` function defined below – it takes a data loader as an argument.\n",
    "Remember that normalized images will look really weird to you! You may want to try changing your transforms to view images.\n",
    "Typically using no transforms other than `toTensor()` works well for viewing – but not as well for training your network.\n",
    "If `show5` doesn't work, go back and check your code for creating your data loaders and your training/test sets."
   ]
  },
  {
   "cell_type": "code",
   "execution_count": 5,
   "metadata": {},
   "outputs": [
    {
     "name": "stdout",
     "output_type": "stream",
     "text": [
      "Feature batch shape: torch.Size([100, 1, 28, 28])\n",
      "Labels batch shape: torch.Size([100])\n"
     ]
    },
    {
     "data": {
      "image/png": "[encoded data removed]",
      "text/plain": [
       "<Figure size 432x288 with 1 Axes>"
      ]
     },
     "metadata": {
      "needs_background": "light"
     },
     "output_type": "display_data"
    },
    {
     "name": "stdout",
     "output_type": "stream",
     "text": [
      "Label: 5\n"
     ]
    }
   ],
   "source": [
    "# Display image and label.\n",
    "train_features, train_labels = next(iter(train_loader))\n",
    "print(f\"Feature batch shape: {train_features.size()}\")\n",
    "print(f\"Labels batch shape: {train_labels.size()}\")\n",
    "img = train_features[0].squeeze()\n",
    "label = train_labels[0]\n",
    "plt.imshow(img, cmap=\"gray\")\n",
    "plt.show()\n",
    "print(f\"Label: {label}\")"
   ]
  },
  {
   "cell_type": "code",
   "execution_count": 31,
   "metadata": {},
   "outputs": [],
   "source": [
    "## This cell contains a function for showing 5 images from a dataloader – DO NOT CHANGE THE CONTENTS! ##\n",
    "def show5(img_loader):\n",
    "    dataiter = iter(img_loader)\n",
    "    \n",
    "    batch = next(dataiter)\n",
    "    labels = batch[1][0:32]\n",
    "    images = batch[0][0:32]\n",
    "    for i in range(5):\n",
    "        print(int(labels[i].detach()))\n",
    "    \n",
    "        image = images[i].numpy()\n",
    "        plt.imshow(image.T.squeeze().T)\n",
    "        plt.show()"
   ]
  },
  {
   "cell_type": "code",
   "execution_count": 32,
   "metadata": {
    "tags": []
   },
   "outputs": [
    {
     "name": "stdout",
     "output_type": "stream",
     "text": [
      "8\n"
     ]
    },
    {
     "data": {
      "image/png": "[encoded data removed]",
      "text/plain": [
       "<Figure size 432x288 with 1 Axes>"
      ]
     },
     "metadata": {
      "needs_background": "light"
     },
     "output_type": "display_data"
    },
    {
     "name": "stdout",
     "output_type": "stream",
     "text": [
      "8\n"
     ]
    },
    {
     "data": {
      "image/png": "[encoded data removed]",
      "text/plain": [
       "<Figure size 432x288 with 1 Axes>"
      ]
     },
     "metadata": {
      "needs_background": "light"
     },
     "output_type": "display_data"
    },
    {
     "name": "stdout",
     "output_type": "stream",
     "text": [
      "7\n"
     ]
    },
    {
     "data": {
      "image/png": "[encoded data removed]",
      "text/plain": [
       "<Figure size 432x288 with 1 Axes>"
      ]
     },
     "metadata": {
      "needs_background": "light"
     },
     "output_type": "display_data"
    },
    {
     "name": "stdout",
     "output_type": "stream",
     "text": [
      "9\n"
     ]
    },
    {
     "data": {
      "image/png": "[encoded data removed]",
      "text/plain": [
       "<Figure size 432x288 with 1 Axes>"
      ]
     },
     "metadata": {
      "needs_background": "light"
     },
     "output_type": "display_data"
    },
    {
     "name": "stdout",
     "output_type": "stream",
     "text": [
      "3\n"
     ]
    },
    {
     "data": {
      "image/png": "[encoded data removed]",
      "text/plain": [
       "<Figure size 432x288 with 1 Axes>"
      ]
     },
     "metadata": {
      "needs_background": "light"
     },
     "output_type": "display_data"
    }
   ],
   "source": [
    "# Explore data\n",
    "## YOUR CODE HERE ##\n",
    "show5(train_loader)"
   ]
  },
  {
   "cell_type": "markdown",
   "metadata": {},
   "source": [
    "## Build your Neural Network\n",
    "Using the layers in `torch.nn` (which has been imported as `nn`) and the `torch.nn.functional` module (imported as `F`), construct a neural network based on the parameters of the dataset.\n",
    "Use any architecture you like. \n",
    "\n",
    "*Note*: If you did not flatten your tensors in your transforms or as part of your preprocessing and you are using only `Linear` layers, make sure to use the `Flatten` layer in your network!"
   ]
  },
  {
   "cell_type": "code",
   "execution_count": 6,
   "metadata": {},
   "outputs": [
    {
     "data": {
      "text/plain": [
       "Net(\n",
       "  (fc1): Linear(in_features=784, out_features=120, bias=True)\n",
       "  (fc2): Linear(in_features=120, out_features=84, bias=True)\n",
       "  (fc3): Linear(in_features=84, out_features=10, bias=True)\n",
       ")"
      ]
     },
     "execution_count": 6,
     "metadata": {},
     "output_type": "execute_result"
    }
   ],
   "source": [
    "## YOUR CODE HERE ##\n",
    "# Define the class for your neural network\n",
    "class Net(nn.Module):\n",
    "    def __init__(self):\n",
    "        super().__init__()\n",
    "        self.activation = F.relu\n",
    "        self.fc1 = nn.Linear(28 * 28 * 1, 120)\n",
    "        self.fc2 = nn.Linear(120, 84)\n",
    "        self.fc3 = nn.Linear(84, 10)\n",
    "\n",
    "    def forward(self, x):\n",
    "        x = torch.flatten(x, 1) # flatten all dimensions except batch\n",
    "        x = self.activation(self.fc1(x))\n",
    "        x = self.activation(self.fc2(x))\n",
    "        x = self.fc3(x)\n",
    "        return x\n",
    "\n",
    "# Instantiate the model\n",
    "net = Net()\n",
    "\n",
    "device = torch.device('cuda' if torch.cuda.is_available() else 'cpu')\n",
    "net.to(device)"
   ]
  },
  {
   "cell_type": "markdown",
   "metadata": {},
   "source": [
    "Specify a loss function and an optimizer, and instantiate the model.\n",
    "\n",
    "If you use a less common loss function, please note why you chose that loss function in a comment."
   ]
  },
  {
   "cell_type": "code",
   "execution_count": 7,
   "metadata": {},
   "outputs": [],
   "source": [
    "## YOUR CODE HERE ##\n",
    "# Choose an optimizer\n",
    "optimizer = optim.Adam(net.parameters(), lr=0.001)\n",
    "#optimizer = optim.SGD(net.parameters(), lr=0.005, momentum=0.9) \n",
    "\n",
    "# Choose a loss function\n",
    "criterion =  nn.CrossEntropyLoss() \n",
    "#criterion = nn.NLLLoss()"
   ]
  },
  {
   "cell_type": "markdown",
   "metadata": {},
   "source": [
    "## Running your Neural Network\n",
    "Use whatever method you like to train your neural network, and ensure you record the average loss at each epoch. \n",
    "Don't forget to use `torch.device()` and the `.to()` method for both your model and your data if you are using GPU!\n",
    "\n",
    "If you want to print your loss **during** each epoch, you can use the `enumerate` function and print the loss after a set number of batches. 250 batches works well for most people!"
   ]
  },
  {
   "cell_type": "code",
   "execution_count": 8,
   "metadata": {},
   "outputs": [
    {
     "name": "stdout",
     "output_type": "stream",
     "text": [
      "Epoch 1 training accuracy: 87.70% training loss: 0.41904\n",
      "Epoch 1 validation accuracy: 92.76% validation loss: 0.23916\n",
      "Epoch 2 training accuracy: 93.83% training loss: 0.20728\n",
      "Epoch 2 validation accuracy: 93.97% validation loss: 0.18841\n",
      "Epoch 3 training accuracy: 95.49% training loss: 0.14789\n",
      "Epoch 3 validation accuracy: 95.64% validation loss: 0.13775\n",
      "Epoch 4 training accuracy: 96.38% training loss: 0.11722\n",
      "Epoch 4 validation accuracy: 96.22% validation loss: 0.12237\n",
      "Epoch 5 training accuracy: 97.07% training loss: 0.09627\n",
      "Epoch 5 validation accuracy: 96.81% validation loss: 0.09708\n"
     ]
    }
   ],
   "source": [
    "## YOUR CODE HERE ##\n",
    "num_epochs = 5\n",
    "\n",
    "# Establish a list for our history\n",
    "train_loss_history = list()\n",
    "val_loss_history = list()\n",
    "\n",
    "for epoch in range(num_epochs):\n",
    "    net.train()\n",
    "    train_loss = 0.0\n",
    "    train_correct = 0\n",
    "    for inputs, labels  in train_loader:   # for i, data in enumerate(train_loader): \n",
    "        # data is a list of [inputs, labels]\n",
    "        #inputs, labels = data\n",
    "\n",
    "        # Pass to GPU if available.\n",
    "        inputs, labels = inputs.to(device), labels.to(device)\n",
    "\n",
    "        optimizer.zero_grad()\n",
    "\n",
    "        outputs = net(inputs)\n",
    "        loss = criterion(outputs, labels)\n",
    "        loss.backward()\n",
    "        optimizer.step()\n",
    "\n",
    "        _, preds = torch.max(outputs.data, 1)\n",
    "        train_correct += (preds == labels).sum().item() \n",
    "\n",
    "        train_loss += loss.item()\n",
    "    \n",
    "    val_loss = 0.0\n",
    "    val_correct = 0\n",
    "    net.eval()\n",
    "    for inputs, labels in test_loader:\n",
    "        inputs, labels = inputs.to(device), labels.to(device)\n",
    "\n",
    "        outputs = net(inputs)\n",
    "        loss = criterion(outputs, labels)\n",
    "\n",
    "        _, preds = torch.max(outputs.data, 1)\n",
    "        val_correct += (preds == labels).sum().item()   \n",
    "\n",
    "        val_loss += loss.item()\n",
    "    print(f'Epoch {epoch + 1} training accuracy: {train_correct/len(train_loader):.2f}% training loss: {train_loss/len(train_loader):.5f}')\n",
    "    train_loss_history.append(train_loss/len(train_loader))\n",
    "\n",
    "    print(f'Epoch {epoch + 1} validation accuracy: {val_correct/len(test_loader):.2f}% validation loss: {val_loss/len(test_loader):.5f}')\n",
    "    val_loss_history.append(val_loss/len(test_loader))"
   ]
  },
  {
   "cell_type": "markdown",
   "metadata": {},
   "source": [
    "Plot the training loss (and validation loss/accuracy, if recorded)."
   ]
  },
  {
   "cell_type": "code",
   "execution_count": 9,
   "metadata": {},
   "outputs": [
    {
     "data": {
      "image/png": "[encoded data removed]",
      "text/plain": [
       "<Figure size 432x288 with 1 Axes>"
      ]
     },
     "metadata": {
      "needs_background": "light"
     },
     "output_type": "display_data"
    }
   ],
   "source": [
    "## YOUR CODE HERE ##\n",
    "# Plot the training and validation loss history\n",
    "plt.plot(train_loss_history, label=\"Training Loss\")\n",
    "plt.plot(val_loss_history, label=\"Validation Loss\")\n",
    "plt.legend()\n",
    "plt.show()"
   ]
  },
  {
   "cell_type": "markdown",
   "metadata": {},
   "source": [
    "## Testing your model\n",
    "Using the previously created `DataLoader` for the test set, compute the percentage of correct predictions using the highest probability prediction. \n",
    "\n",
    "If your accuracy is over 90%, great work, but see if you can push a bit further! \n",
    "If your accuracy is under 90%, you'll need to make improvements.\n",
    "Go back and check your model architecture, loss function, and optimizer to make sure they're appropriate for an image classification task."
   ]
  },
  {
   "cell_type": "code",
   "execution_count": 10,
   "metadata": {},
   "outputs": [
    {
     "name": "stdout",
     "output_type": "stream",
     "text": [
      "100\n",
      "test accuracy: 96.81% test loss: 0.09708\n"
     ]
    }
   ],
   "source": [
    "## YOUR CODE HERE ##\n",
    "test_loss = 0.0\n",
    "test_correct = 0\n",
    "net.eval()\n",
    "for inputs, labels in test_loader:\n",
    "    inputs, labels = inputs.to(device), labels.to(device)\n",
    "\n",
    "    outputs = net(inputs)\n",
    "    loss = criterion(outputs, labels)\n",
    "\n",
    "    _, preds = torch.max(outputs.data, 1)\n",
    "    test_correct += (preds == labels).sum().item()  \n",
    "\n",
    "    test_loss += loss.item()\n",
    "    #print(test_loss)\n",
    "\n",
    "print(f'test accuracy: {test_correct/len(test_loader):.2f}% test loss: {test_loss/len(test_loader):.5f}')\n"
   ]
  },
  {
   "cell_type": "markdown",
   "metadata": {},
   "source": [
    "## Improving your model\n",
    "\n",
    "Once your model is done training, try tweaking your hyperparameters and training again below to improve your accuracy on the test set!"
   ]
  },
  {
   "cell_type": "code",
   "execution_count": 13,
   "metadata": {},
   "outputs": [],
   "source": [
    "## YOUR CODE HERE ##\n",
    "# NO need for hyperparameters tuning as the test accuracy: 96.81%  and the test loss: 0.09708"
   ]
  },
  {
   "cell_type": "markdown",
   "metadata": {},
   "source": [
    "## Saving your model\n",
    "Using `torch.save`, save your model for future loading."
   ]
  },
  {
   "cell_type": "code",
   "execution_count": 11,
   "metadata": {
    "collapsed": true,
    "jupyter": {
     "outputs_hidden": true
    },
    "tags": []
   },
   "outputs": [
    {
     "name": "stdout",
     "output_type": "stream",
     "text": [
      "Model's state_dict:\n",
      "fc1.weight \t torch.Size([120, 784])\n",
      "fc1.bias \t torch.Size([120])\n",
      "fc2.weight \t torch.Size([84, 120])\n",
      "fc2.bias \t torch.Size([84])\n",
      "fc3.weight \t torch.Size([10, 84])\n",
      "fc3.bias \t torch.Size([10])\n",
      "Optimizer's state_dict:\n",
      "state \t {0: {'step': 3000, 'exp_avg': tensor([[-6.8705e-05, -6.8705e-05, -6.8705e-05,  ..., -6.8705e-05,\n",
      "         -6.8705e-05, -6.8705e-05],\n",
      "        [ 4.7000e-04,  4.7000e-04,  4.7000e-04,  ...,  4.7000e-04,\n",
      "          4.7000e-04,  4.7000e-04],\n",
      "        [-5.6052e-45, -5.6052e-45, -5.6052e-45,  ..., -5.6052e-45,\n",
      "         -5.6052e-45, -5.6052e-45],\n",
      "        ...,\n",
      "        [-3.9742e-04, -3.9742e-04, -3.9742e-04,  ..., -3.9742e-04,\n",
      "         -3.9742e-04, -3.9742e-04],\n",
      "        [-5.6052e-45, -5.6052e-45, -5.6052e-45,  ..., -5.6052e-45,\n",
      "         -5.6052e-45, -5.6052e-45],\n",
      "        [-5.6052e-45, -5.6052e-45, -5.6052e-45,  ..., -5.6052e-45,\n",
      "         -5.6052e-45, -5.6052e-45]]), 'exp_avg_sq': tensor([[4.8205e-06, 4.8205e-06, 4.8205e-06,  ..., 4.8205e-06, 4.8205e-06,\n",
      "         4.8205e-06],\n",
      "        [9.4552e-06, 9.4552e-06, 9.4552e-06,  ..., 9.4552e-06, 9.4552e-06,\n",
      "         9.4552e-06],\n",
      "        [2.1273e-11, 2.1273e-11, 2.1273e-11,  ..., 2.1273e-11, 2.1273e-11,\n",
      "         2.1273e-11],\n",
      "        ...,\n",
      "        [5.6177e-06, 5.6177e-06, 5.6177e-06,  ..., 5.6177e-06, 5.6177e-06,\n",
      "         5.6177e-06],\n",
      "        [1.3684e-13, 1.3684e-13, 1.3684e-13,  ..., 1.3684e-13, 1.3684e-13,\n",
      "         1.3684e-13],\n",
      "        [1.5825e-12, 1.5825e-12, 1.5825e-12,  ..., 1.5825e-12, 1.5825e-12,\n",
      "         1.5825e-12]])}, 1: {'step': 3000, 'exp_avg': tensor([ 6.8705e-05, -4.7000e-04,  5.6052e-45,  1.0738e-04,  1.3916e-03,\n",
      "         5.6052e-45,  2.6562e-04,  5.6052e-45,  3.0753e-04, -1.9129e-04,\n",
      "         5.6052e-45, -1.7014e-04,  2.0652e-06,  1.3131e-04,  5.6052e-45,\n",
      "         1.8868e-04, -3.3779e-04, -7.9783e-05,  5.6946e-05, -5.7221e-04,\n",
      "         5.6052e-45,  5.6052e-45,  5.6052e-45,  5.6052e-45,  1.0961e-04,\n",
      "        -4.7275e-04,  5.6052e-45, -3.8338e-04,  5.6052e-45,  1.0456e-03,\n",
      "        -2.9907e-05,  5.6052e-45, -3.9075e-04,  1.9306e-04,  5.6052e-45,\n",
      "        -5.6561e-04, -1.2285e-04,  5.6052e-45,  7.7867e-05,  5.6052e-45,\n",
      "         5.6052e-45, -4.6190e-04,  5.6052e-45,  9.2362e-04, -7.9511e-05,\n",
      "        -2.9602e-04, -4.7628e-04,  1.0735e-04,  6.0575e-04, -1.0842e-04,\n",
      "        -5.0474e-04,  5.6052e-45,  5.6052e-45,  9.2106e-04,  1.3602e-04,\n",
      "         1.8360e-04,  2.2298e-04,  7.6430e-04,  5.6052e-45,  3.8453e-04,\n",
      "         5.6052e-45,  6.0055e-04,  5.6052e-45, -3.7222e-04,  5.6052e-45,\n",
      "        -1.1801e-03, -9.0330e-05, -1.0522e-04,  5.7054e-04, -9.6928e-04,\n",
      "        -2.8971e-04,  1.6222e-03, -4.1845e-04,  5.6052e-45,  9.6907e-05,\n",
      "         5.6052e-45, -3.8021e-05, -5.3862e-04,  5.6052e-45, -2.3076e-04,\n",
      "         5.6052e-45,  5.6052e-45, -1.0452e-04,  5.6052e-45, -3.9327e-04,\n",
      "         4.3228e-05,  1.0399e-03, -1.3517e-04,  5.6052e-45, -5.6780e-04,\n",
      "        -5.7455e-06, -5.2015e-04,  5.6052e-45,  4.0204e-04,  6.8246e-04,\n",
      "        -6.7651e-04, -1.1944e-03,  4.5126e-05,  5.6052e-45,  5.6052e-45,\n",
      "         6.6251e-04, -1.3365e-04,  7.5425e-05, -1.8422e-04,  7.1715e-04,\n",
      "         2.5012e-04, -3.0478e-04, -4.8087e-04, -2.9985e-04,  4.4934e-04,\n",
      "        -6.5550e-04,  5.6052e-45,  5.6052e-45, -4.0596e-04,  6.6044e-04,\n",
      "         5.6052e-45,  4.5001e-05,  3.9742e-04,  5.6052e-45,  5.6052e-45]), 'exp_avg_sq': tensor([4.8205e-06, 9.4552e-06, 2.1273e-11, 6.3387e-06, 1.3875e-05, 5.3835e-13,\n",
      "        4.1908e-06, 4.2716e-12, 4.4808e-06, 5.3415e-06, 5.0100e-11, 4.8768e-06,\n",
      "        4.8052e-06, 3.1397e-06, 2.0125e-11, 2.3997e-06, 3.0498e-06, 6.6008e-06,\n",
      "        3.3791e-06, 7.8307e-06, 5.0094e-11, 2.4880e-12, 1.6895e-12, 8.1093e-11,\n",
      "        2.5475e-06, 6.7289e-06, 5.8547e-11, 8.8786e-06, 1.5957e-12, 5.4614e-06,\n",
      "        4.3126e-06, 2.8570e-10, 8.1620e-06, 4.4379e-06, 8.4726e-10, 2.8752e-05,\n",
      "        1.9857e-06, 4.1933e-10, 4.5560e-06, 3.3181e-10, 1.5943e-13, 1.1893e-05,\n",
      "        3.3583e-10, 1.4202e-05, 4.3203e-06, 7.4624e-06, 6.1769e-06, 3.7863e-06,\n",
      "        9.4976e-06, 7.3974e-06, 6.6901e-06, 6.2478e-12, 1.4639e-11, 2.1629e-05,\n",
      "        1.0367e-05, 4.1405e-06, 3.5817e-06, 5.1988e-06, 2.9593e-10, 1.8185e-06,\n",
      "        6.7160e-10, 9.0304e-06, 2.0983e-10, 1.0380e-05, 1.0479e-08, 9.9968e-06,\n",
      "        2.5994e-06, 2.4354e-06, 2.1374e-06, 7.2120e-06, 1.5985e-05, 6.9166e-06,\n",
      "        1.3079e-05, 6.7453e-13, 2.6380e-06, 1.9351e-10, 2.9564e-06, 4.3238e-06,\n",
      "        3.9759e-10, 3.8832e-06, 1.4358e-12, 2.7987e-10, 3.9070e-06, 3.4034e-10,\n",
      "        2.4108e-06, 5.6422e-06, 1.3668e-05, 4.9692e-06, 1.5175e-10, 5.1829e-06,\n",
      "        4.6468e-06, 5.8111e-06, 7.4298e-13, 4.7512e-06, 2.6920e-05, 5.4045e-06,\n",
      "        5.9316e-06, 2.7662e-06, 1.1436e-11, 7.8601e-11, 4.8423e-06, 2.0429e-06,\n",
      "        3.3000e-06, 1.1456e-05, 1.8421e-06, 5.2273e-06, 6.2542e-06, 7.7790e-06,\n",
      "        5.8321e-06, 9.1996e-06, 6.0044e-06, 2.9324e-12, 5.0629e-10, 4.9990e-06,\n",
      "        1.3372e-05, 9.0253e-10, 2.9945e-06, 5.6177e-06, 1.3684e-13, 1.5825e-12])}, 2: {'step': 3000, 'exp_avg': tensor([[ 3.3455e-03,  1.3920e-03,  0.0000e+00,  ...,  4.5031e-03,\n",
      "          5.6052e-45, -5.6052e-45],\n",
      "        [ 5.6052e-45,  2.9861e-14,  0.0000e+00,  ...,  5.6052e-45,\n",
      "          0.0000e+00,  0.0000e+00],\n",
      "        [-6.8158e-04,  1.0307e-05,  5.6052e-45,  ...,  6.4005e-04,\n",
      "          0.0000e+00, -5.6052e-45],\n",
      "        ...,\n",
      "        [ 6.4135e-04,  7.5792e-04, -5.6052e-45,  ...,  8.2374e-04,\n",
      "          5.6052e-45,  5.6052e-45],\n",
      "        [-2.1467e-03, -1.6925e-03,  0.0000e+00,  ..., -1.1230e-03,\n",
      "          0.0000e+00,  0.0000e+00],\n",
      "        [-2.2723e-03, -1.3322e-03, -5.6052e-45,  ..., -2.6446e-03,\n",
      "          0.0000e+00, -5.6052e-45]]), 'exp_avg_sq': tensor([[9.3601e-05, 2.1717e-05, 0.0000e+00,  ..., 1.6870e-04, 7.2786e-14,\n",
      "         3.6554e-12],\n",
      "        [1.5572e-11, 1.3468e-14, 0.0000e+00,  ..., 2.8227e-11, 0.0000e+00,\n",
      "         0.0000e+00],\n",
      "        [1.1923e-04, 3.3218e-05, 5.4628e-12,  ..., 2.2181e-04, 0.0000e+00,\n",
      "         2.1795e-12],\n",
      "        ...,\n",
      "        [7.4846e-05, 2.2055e-05, 8.9523e-13,  ..., 1.2669e-04, 1.0926e-13,\n",
      "         1.1506e-11],\n",
      "        [1.0879e-04, 4.8179e-05, 0.0000e+00,  ..., 2.0527e-04, 0.0000e+00,\n",
      "         0.0000e+00],\n",
      "        [4.7251e-05, 1.8496e-05, 3.4046e-15,  ..., 6.6856e-05, 0.0000e+00,\n",
      "         2.4928e-13]])}, 3: {'step': 3000, 'exp_avg': tensor([ 8.4600e-04,  1.4410e-13,  5.3925e-05,  2.1121e-04,  2.8044e-04,\n",
      "        -2.6700e-05, -3.1765e-05, -1.2220e-04, -1.2508e-05, -7.4006e-04,\n",
      "        -3.4533e-04,  1.3190e-04, -3.6063e-04, -6.9132e-18,  3.8737e-04,\n",
      "        -4.2452e-04,  2.1477e-05,  5.5621e-05,  9.6977e-04,  5.6052e-45,\n",
      "        -2.3728e-04, -5.6253e-04,  5.5966e-04, -6.1240e-04,  2.6943e-04,\n",
      "         6.8191e-05, -3.0728e-04,  5.3034e-04,  3.3984e-04,  3.9783e-04,\n",
      "        -4.5200e-04,  2.1528e-04,  5.6052e-45,  9.5529e-05, -5.0261e-04,\n",
      "        -3.8154e-05, -9.9369e-05,  3.4251e-04, -8.7011e-04, -5.9364e-05,\n",
      "        -3.8897e-05, -2.3029e-06,  4.4031e-05,  7.6835e-04,  2.4139e-11,\n",
      "         5.6052e-45, -4.5569e-04, -9.4888e-04,  5.7280e-04, -5.6790e-04,\n",
      "         2.2764e-04,  3.3830e-04, -7.8112e-04,  9.0318e-04,  1.1597e-03,\n",
      "        -3.3582e-04,  1.1666e-03, -1.6633e-04,  8.4078e-45,  2.4743e-40,\n",
      "         3.4214e-05, -9.3250e-05, -1.1411e-04,  7.4151e-04,  6.3015e-04,\n",
      "         6.9764e-04,  5.6052e-45, -7.4761e-04,  5.6052e-45,  1.2177e-03,\n",
      "         5.6052e-45,  5.6052e-45,  2.3378e-04, -3.2464e-04, -4.4649e-04,\n",
      "        -9.4123e-05, -6.2930e-04, -1.6948e-04,  1.0003e-03,  1.4120e-04,\n",
      "        -3.9202e-10,  2.5696e-04, -3.5853e-04, -7.2090e-04]), 'exp_avg_sq': tensor([6.0680e-06, 5.2405e-11, 9.5780e-06, 1.1278e-05, 6.4037e-06, 7.6379e-06,\n",
      "        3.8146e-06, 4.3169e-06, 6.3485e-06, 6.5156e-06, 9.1370e-06, 5.2678e-06,\n",
      "        7.1232e-06, 2.8573e-11, 8.0387e-06, 5.7162e-06, 5.6237e-06, 1.1823e-06,\n",
      "        8.1859e-06, 4.1247e-13, 4.9881e-06, 7.7325e-06, 8.5564e-06, 4.1341e-06,\n",
      "        8.5168e-06, 7.5704e-06, 9.7934e-06, 9.2862e-06, 1.3329e-05, 8.5563e-06,\n",
      "        5.0043e-06, 4.6788e-06, 5.0257e-12, 8.5174e-06, 6.1236e-06, 5.9940e-06,\n",
      "        8.6394e-06, 8.5121e-06, 5.7694e-06, 1.6212e-07, 6.3411e-06, 7.7493e-09,\n",
      "        6.7325e-06, 7.0673e-06, 6.5538e-09, 6.5259e-10, 7.7160e-06, 9.0540e-06,\n",
      "        1.1465e-05, 5.2614e-06, 6.0773e-06, 5.7657e-06, 1.1166e-05, 6.5804e-06,\n",
      "        6.9536e-06, 9.0060e-06, 1.1510e-05, 4.2702e-06, 3.3310e-09, 4.6696e-10,\n",
      "        3.5161e-07, 1.2279e-05, 1.8316e-06, 6.6100e-06, 6.7105e-06, 6.0865e-06,\n",
      "        2.7083e-14, 6.7997e-06, 5.1805e-11, 5.5842e-06, 7.7381e-11, 9.2289e-10,\n",
      "        8.9756e-06, 6.1059e-06, 5.5162e-06, 3.5921e-06, 7.8539e-06, 7.5881e-06,\n",
      "        1.1356e-05, 5.7067e-06, 1.2166e-08, 6.9518e-06, 8.5454e-06, 3.5836e-06])}, 4: {'step': 3000, 'exp_avg': tensor([[-2.9268e-03,  7.6508e-19, -4.1407e-03, -2.2376e-03, -4.5120e-05,\n",
      "          5.9831e-04,  7.0440e-04, -5.8172e-03, -2.6341e-03, -6.6120e-03,\n",
      "         -2.3595e-03, -3.6627e-03, -2.4525e-03,  2.3725e-19, -1.1272e-03,\n",
      "         -2.7610e-03, -5.3122e-03, -4.3040e-04, -1.9524e-03,  5.6052e-45,\n",
      "         -3.5886e-03, -1.6103e-03, -2.2061e-03, -2.1598e-04,  4.2112e-04,\n",
      "         -1.2741e-03, -3.2117e-03, -6.9608e-04, -2.1301e-04,  6.1809e-05,\n",
      "         -2.6836e-03, -2.1769e-03,  5.6052e-45, -2.0079e-04,  1.1730e-03,\n",
      "         -9.3646e-04, -2.3908e-03, -7.4320e-03, -4.8683e-03,  1.2512e-06,\n",
      "         -6.0065e-03,  2.4769e-09, -2.7225e-03, -1.5405e-03,  6.2624e-14,\n",
      "          5.6052e-45, -3.7098e-03, -5.4867e-03,  7.2017e-04, -3.4407e-03,\n",
      "          7.5773e-04, -2.8365e-03, -2.2452e-03,  1.9399e-05, -1.6466e-03,\n",
      "         -3.9386e-03, -1.0389e-03, -3.1864e-03,  5.6052e-45, -5.4895e-40,\n",
      "          3.3946e-04,  6.1150e-04, -3.0650e-03, -8.0725e-03, -7.5752e-03,\n",
      "          6.7745e-05,  5.6052e-45, -1.9574e-03, -5.6052e-45, -1.5637e-03,\n",
      "          5.6052e-45,  5.6052e-45, -6.7576e-04, -5.2029e-03, -8.0358e-03,\n",
      "         -7.2996e-04, -4.8642e-03,  3.2173e-05, -1.0509e-03, -6.4993e-03,\n",
      "          1.7196e-10, -4.7016e-03, -1.1010e-04, -3.7292e-03],\n",
      "        [ 2.7958e-04,  3.0343e-16,  1.8755e-04,  1.3496e-03,  2.6266e-03,\n",
      "          3.2242e-03,  2.8164e-03,  1.6218e-03,  1.6180e-03,  2.6825e-03,\n",
      "          2.7543e-03,  9.4631e-04,  1.4927e-04,  2.6666e-21,  5.1500e-03,\n",
      "          3.3922e-03,  2.9899e-03,  9.0813e-07,  5.7259e-03,  5.6052e-45,\n",
      "         -1.0502e-03,  1.0558e-03,  3.0684e-03,  2.0251e-03, -2.0717e-04,\n",
      "          4.0529e-04,  1.1698e-03,  6.4045e-04,  2.3367e-04,  2.9661e-03,\n",
      "          1.2595e-03,  5.1012e-03,  5.6052e-45,  3.8248e-03,  1.5434e-03,\n",
      "          3.4985e-03,  7.7534e-04,  7.0867e-04,  4.0016e-04,  4.3978e-04,\n",
      "          1.8257e-03,  8.4785e-08,  2.9063e-04, -7.2439e-04,  2.0320e-12,\n",
      "          5.6052e-45,  5.5338e-03,  1.1782e-03,  1.2644e-03,  2.1734e-03,\n",
      "          1.4979e-03,  8.7555e-03,  4.4561e-03,  3.0905e-03,  3.6886e-03,\n",
      "          2.7151e-03,  1.0838e-03,  3.2589e-03,  5.6052e-45,  5.6052e-45,\n",
      "         -8.7498e-04,  2.4576e-03,  1.2748e-05,  1.0655e-03,  3.9652e-06,\n",
      "         -8.1568e-04, -5.6052e-45,  3.1934e-03,  5.6052e-45,  2.4099e-04,\n",
      "          5.6052e-45,  5.6052e-45,  6.7329e-03,  4.8311e-03,  2.4849e-04,\n",
      "          1.3420e-03, -7.7194e-05,  2.0653e-03,  2.5639e-03,  1.9315e-03,\n",
      "          7.8397e-17,  6.2378e-04,  2.8336e-03,  1.1639e-03],\n",
      "        [ 2.0104e-06,  5.7906e-18,  3.5942e-03, -1.7605e-04,  5.4359e-03,\n",
      "          3.2721e-03,  1.4024e-03,  4.3100e-03,  4.0426e-03,  4.1804e-03,\n",
      "          3.3400e-03,  3.3573e-03,  2.5074e-03,  7.2400e-20,  1.7933e-03,\n",
      "          2.4431e-03,  1.8874e-03,  1.1103e-04,  4.5431e-03,  5.6052e-45,\n",
      "          1.3049e-03,  4.8333e-03,  4.6115e-03,  6.2684e-03,  1.2683e-03,\n",
      "          6.5283e-03,  2.2279e-03,  4.1155e-03,  2.7446e-03,  6.2062e-03,\n",
      "          6.2065e-03,  6.3780e-03, -5.6052e-45,  6.3540e-03,  2.9668e-03,\n",
      "         -4.8561e-04,  4.0025e-03,  4.2989e-03,  2.3825e-03,  4.0835e-04,\n",
      "          1.0155e-03,  6.8357e-07,  3.0143e-03,  4.0197e-03,  4.1084e-12,\n",
      "          5.6052e-45,  4.2436e-03,  5.5253e-03,  4.3623e-03,  6.2818e-03,\n",
      "          3.3935e-03,  5.4512e-03,  3.1462e-03,  7.7726e-03,  6.2253e-03,\n",
      "          1.7420e-03,  4.0975e-03,  6.4513e-03,  5.6052e-45,  2.2421e-42,\n",
      "         -6.8160e-05, -2.1089e-03, -4.9564e-05,  8.2806e-04,  2.7711e-03,\n",
      "          8.7004e-04,  5.6052e-45,  5.0819e-03,  5.6052e-45,  3.8421e-03,\n",
      "         -5.6052e-45, -5.6052e-45,  2.5369e-03,  1.4103e-03,  9.2563e-03,\n",
      "          6.4174e-04,  7.7152e-03,  8.4676e-03,  7.7709e-03,  1.9414e-03,\n",
      "          2.4688e-12,  3.0211e-03, -1.6482e-03,  4.4773e-03],\n",
      "        [-5.4525e-03, -2.8753e-13, -2.1972e-03, -1.9968e-03,  9.3277e-04,\n",
      "          2.7365e-04, -6.1850e-03, -1.2463e-02, -2.2501e-03,  9.6901e-04,\n",
      "         -6.5124e-03, -1.5836e-03, -2.1368e-03,  8.0401e-19, -3.5866e-04,\n",
      "         -7.3057e-04,  3.0747e-03, -1.4937e-03, -4.7647e-03,  5.6052e-45,\n",
      "          8.2020e-04, -1.9862e-03, -7.9708e-03, -5.3375e-03, -3.8581e-03,\n",
      "          1.2070e-03, -2.2575e-03, -2.5664e-04,  5.2597e-04, -3.6317e-03,\n",
      "          1.2105e-03, -8.5026e-04,  5.6052e-45,  1.5389e-03,  6.0763e-03,\n",
      "          5.4555e-04, -1.8320e-03, -6.7021e-03,  2.0313e-03,  7.7146e-04,\n",
      "         -4.0421e-04, -1.8304e-05, -4.1806e-03, -6.7870e-03, -1.9894e-10,\n",
      "         -5.6052e-45, -1.3501e-03, -1.0074e-03, -5.0240e-03,  2.0527e-03,\n",
      "          8.2818e-04,  1.8599e-04, -1.0948e-03, -8.0912e-04, -8.8113e-03,\n",
      "          1.4960e-04, -5.3730e-03, -4.6589e-04,  1.4013e-44,  2.5979e-41,\n",
      "         -6.1556e-05, -1.5236e-03, -7.7497e-05, -1.0153e-02, -5.4550e-03,\n",
      "         -3.9967e-03,  5.6052e-45,  3.5934e-04,  5.6052e-45, -8.9025e-03,\n",
      "          5.6052e-45,  5.6052e-45, -8.2027e-04,  1.0331e-03, -8.2204e-03,\n",
      "         -1.6044e-03, -3.4096e-03, -6.5118e-03, -1.3919e-03, -7.7581e-03,\n",
      "          1.5214e-11, -3.2685e-03, -2.9864e-04, -2.3892e-03],\n",
      "        [ 7.4809e-03,  6.8318e-22,  4.7440e-03,  5.0433e-03,  3.1837e-03,\n",
      "          9.0991e-03,  1.8926e-03,  6.3178e-03,  5.2437e-03,  6.8064e-03,\n",
      "          2.4155e-03,  7.1290e-03,  5.6886e-03,  2.7417e-19,  6.7796e-04,\n",
      "          3.2119e-03,  2.4721e-03,  1.6730e-03,  7.1010e-03,  5.6052e-45,\n",
      "          1.9127e-03,  4.2500e-03,  3.7602e-04,  1.9877e-04,  3.2922e-03,\n",
      "          6.0172e-03,  2.8349e-03, -3.8505e-04,  2.9066e-03,  3.8859e-03,\n",
      "          7.6381e-03,  8.1689e-03,  5.6052e-45,  1.2672e-03,  1.5309e-03,\n",
      "          3.3319e-03,  7.3789e-03,  5.5547e-03,  2.6653e-03,  8.3101e-04,\n",
      "          6.2751e-03,  1.6164e-05,  6.4506e-03,  5.6466e-03,  1.3938e-16,\n",
      "          5.6052e-45,  4.7974e-03,  1.1514e-03,  3.0908e-03,  4.7122e-03,\n",
      "          1.6011e-03,  6.7570e-03,  1.9293e-03,  3.7774e-04,  8.0901e-03,\n",
      "         -8.0188e-04,  1.0693e-02,  1.7159e-03,  5.6052e-45,  5.6052e-45,\n",
      "          1.0466e-03,  6.8450e-04, -1.8530e-04,  5.5808e-03,  2.4082e-03,\n",
      "          5.4110e-03,  5.6052e-45,  5.5069e-03,  5.6052e-45,  3.9372e-03,\n",
      "          5.6052e-45,  5.6052e-45,  1.8151e-03,  1.4316e-03,  5.0317e-03,\n",
      "          4.5798e-03,  8.5765e-03,  1.8205e-03,  1.2363e-03,  4.1729e-03,\n",
      "          1.7909e-09,  6.5968e-03,  1.2754e-03,  1.4057e-03],\n",
      "        [ 9.3687e-04,  2.7789e-13,  5.7836e-03,  3.2410e-03, -2.9725e-03,\n",
      "         -3.2673e-03, -3.9269e-04,  1.2381e-02,  1.4537e-03,  3.5280e-03,\n",
      "          2.5726e-03,  1.0769e-03, -1.1180e-03,  2.6041e-18, -5.7434e-04,\n",
      "         -1.9755e-04,  3.1153e-03,  2.1249e-03,  3.7014e-03, -5.6052e-45,\n",
      "          2.8101e-03,  3.8265e-04,  3.0557e-03,  4.6355e-03,  3.7700e-03,\n",
      "          3.0143e-03,  5.9609e-03,  1.5487e-03, -2.9501e-04, -4.4444e-04,\n",
      "          1.8466e-03, -1.3881e-03,  5.6052e-45, -2.7296e-04, -4.6867e-03,\n",
      "          2.4009e-03,  7.4858e-03,  1.0062e-02,  2.8848e-03, -3.0879e-04,\n",
      "          5.1968e-03,  9.2437e-07,  3.1237e-03,  7.6046e-03,  3.6671e-15,\n",
      "          5.6052e-45, -1.1201e-04,  7.3399e-03,  1.6513e-04,  2.5687e-03,\n",
      "         -2.3616e-03, -8.8596e-04,  3.0632e-03, -2.3606e-03,  2.2342e-03,\n",
      "          2.6405e-03,  6.4392e-04,  1.4447e-03, -2.1019e-44,  4.9999e-40,\n",
      "         -1.6545e-03, -6.6630e-04,  2.4889e-03,  9.0716e-03,  6.8700e-03,\n",
      "          5.5949e-04,  5.6052e-45,  1.7442e-03,  5.6052e-45,  5.4270e-03,\n",
      "          5.6052e-45,  5.6052e-45,  2.6953e-04,  2.4873e-03,  1.0996e-02,\n",
      "          6.7873e-04,  5.0247e-03,  3.6470e-03,  3.3028e-03,  5.9035e-03,\n",
      "          6.4048e-12,  3.1199e-03,  1.0674e-03,  4.2708e-03],\n",
      "        [-1.5624e-03,  4.2946e-18, -6.5601e-03, -1.0792e-03, -1.1534e-03,\n",
      "         -1.6223e-03,  1.1824e-06, -9.4797e-03, -8.2513e-04, -9.3661e-04,\n",
      "         -1.6684e-03, -3.4107e-03, -3.9595e-03,  1.7215e-22,  4.6438e-04,\n",
      "         -3.0959e-03,  7.4047e-04,  2.4001e-04, -2.4619e-03,  5.6052e-45,\n",
      "         -3.3523e-03,  3.9106e-04,  2.7698e-04, -5.8848e-03, -5.3281e-03,\n",
      "         -4.0310e-03, -5.8524e-03, -2.1626e-03, -1.7694e-03, -1.8838e-03,\n",
      "         -7.1887e-03, -2.4554e-03,  5.6052e-45,  2.3687e-04, -8.3414e-04,\n",
      "          1.2733e-04, -8.6836e-03, -4.6487e-03, -4.3440e-03, -2.1892e-05,\n",
      "         -4.9018e-03,  1.6604e-08, -6.6616e-03, -1.1078e-02,  1.5804e-16,\n",
      "          5.6052e-45,  6.4195e-04, -3.3334e-03, -1.7656e-03, -2.3090e-03,\n",
      "         -2.2391e-03,  7.0521e-04, -4.0277e-03,  2.3138e-04, -2.5738e-03,\n",
      "         -7.4271e-04, -5.6235e-03,  9.6278e-05,  5.6052e-45,  8.5507e-42,\n",
      "         -3.6488e-04,  2.0732e-05,  2.5822e-05, -4.5794e-03, -1.6445e-03,\n",
      "         -4.8589e-04,  5.6052e-45, -1.1691e-03,  5.6052e-45, -4.5157e-03,\n",
      "          5.6052e-45,  5.6052e-45,  6.2681e-04,  2.7442e-04, -1.3036e-02,\n",
      "          7.1198e-05, -1.3137e-02, -6.0872e-03, -2.1573e-03,  3.8929e-04,\n",
      "          7.8126e-15, -4.1289e-03,  4.2847e-05, -5.6432e-03],\n",
      "        [-1.2086e-03,  3.5806e-22, -2.1700e-03, -1.4859e-03, -3.7964e-03,\n",
      "          5.5100e-04, -2.6843e-03, -2.9571e-03, -6.8986e-04, -1.0544e-03,\n",
      "         -4.7768e-03,  2.2564e-03, -3.9556e-03, -1.5147e-17, -2.7363e-03,\n",
      "         -3.5039e-03, -4.0908e-03, -1.2294e-03, -2.1953e-03,  5.6052e-45,\n",
      "          1.2164e-03, -3.7726e-03, -3.0959e-03, -4.1582e-03,  1.2361e-03,\n",
      "         -3.2790e-03, -3.3665e-05, -3.4313e-03, -4.4012e-03, -4.1819e-03,\n",
      "         -2.9245e-04, -3.4562e-03,  5.6052e-45, -3.3562e-03,  9.4734e-04,\n",
      "          2.2234e-03,  9.5831e-04, -1.3534e-03,  2.4136e-05, -1.5736e-03,\n",
      "          2.4112e-04,  5.6714e-07,  8.4122e-04, -1.2305e-03,  1.0770e-11,\n",
      "          5.6052e-45, -5.6972e-03, -2.0547e-03, -3.5018e-03,  4.2748e-04,\n",
      "         -1.6882e-03, -4.7417e-03,  6.0679e-04, -7.2850e-03, -5.6758e-03,\n",
      "          3.2649e-03,  4.8448e-04, -5.3405e-03,  5.6052e-45,  3.3351e-43,\n",
      "          9.1387e-04,  1.9873e-03, -3.1629e-04, -1.1639e-03, -2.5383e-03,\n",
      "         -1.6819e-04,  5.6052e-45, -1.1935e-03,  5.6052e-45, -3.3057e-03,\n",
      "          5.6052e-45,  5.6052e-45, -3.3326e-03,  9.8309e-04, -1.1162e-03,\n",
      "         -1.6473e-03, -2.1512e-03, -4.4174e-03, -4.7637e-03, -3.4892e-03,\n",
      "          2.8515e-09, -1.6366e-03,  4.0829e-03,  1.3173e-03],\n",
      "        [-2.8269e-03,  9.2222e-15, -3.1805e-03, -5.8463e-03, -8.1285e-03,\n",
      "         -1.7422e-02, -4.0180e-03, -5.4577e-03, -7.1169e-03, -1.3861e-02,\n",
      "         -5.5057e-03, -8.8619e-03,  2.8913e-04,  1.6865e-20, -4.7355e-03,\n",
      "         -1.0484e-03, -6.4774e-03,  2.0844e-04, -1.6800e-02,  5.6052e-45,\n",
      "         -2.1445e-03, -8.5582e-03, -1.3957e-06, -2.6960e-03, -2.8400e-03,\n",
      "         -9.4563e-03, -6.9760e-03,  1.4711e-03, -2.0757e-03, -5.0229e-03,\n",
      "         -8.1858e-03, -1.4696e-02,  5.6052e-45, -1.2375e-02, -1.0260e-02,\n",
      "         -1.2114e-02, -6.0694e-03, -1.8257e-03, -3.9074e-03, -2.3480e-04,\n",
      "         -1.1239e-02,  1.9530e-08, -5.6756e-03, -1.0848e-03,  1.8193e-10,\n",
      "          5.6052e-45, -1.3182e-02, -8.0732e-03, -1.6229e-03, -1.6798e-02,\n",
      "         -2.8919e-03, -2.1437e-02, -9.4540e-03, -3.1514e-03, -9.1793e-03,\n",
      "         -1.0784e-02, -8.0669e-03, -6.9031e-03,  5.6052e-45,  1.5260e-42,\n",
      "          5.8058e-04, -5.0197e-03,  1.7372e-04, -1.6475e-03,  4.6409e-04,\n",
      "         -1.3577e-03,  5.6052e-45, -1.6870e-02,  5.6052e-45, -2.7902e-03,\n",
      "          5.6052e-45,  5.6052e-45, -8.4797e-03, -1.1823e-02, -2.2462e-03,\n",
      "         -9.0563e-03, -1.7526e-03,  2.6167e-04, -9.5172e-03, -6.4478e-03,\n",
      "          1.6406e-10, -3.6472e-03, -8.5703e-03, -5.4315e-03],\n",
      "        [ 5.2778e-03,  1.0289e-16,  3.9393e-03,  3.1881e-03,  3.9169e-03,\n",
      "          5.2930e-03,  6.4631e-03,  1.1545e-02,  1.1582e-03,  4.2977e-03,\n",
      "          9.7404e-03,  2.7530e-03,  4.9881e-03,  1.1134e-17,  1.4463e-03,\n",
      "          2.2900e-03,  1.6006e-03, -1.2048e-03,  7.1030e-03,  5.6052e-45,\n",
      "          2.0712e-03,  5.0143e-03,  1.8856e-03,  5.1646e-03,  2.2458e-03,\n",
      "          8.6849e-04,  6.1377e-03, -8.4407e-04,  2.3435e-03,  2.0449e-03,\n",
      "          1.8929e-04,  5.3750e-03,  5.6052e-45,  2.9832e-03,  1.5435e-03,\n",
      "          1.4083e-03, -1.6249e-03,  1.3372e-03,  2.7316e-03, -3.1276e-04,\n",
      "          7.9976e-03, -1.5832e-07,  5.5200e-03,  5.1739e-03,  3.3063e-14,\n",
      "          5.6052e-45,  8.8343e-03,  4.7607e-03,  2.3115e-03,  4.3321e-03,\n",
      "          1.1025e-03,  8.0465e-03,  3.6201e-03,  2.1145e-03,  7.6484e-03,\n",
      "          5.7554e-03,  3.0997e-03,  2.9289e-03,  5.6052e-45,  1.0272e-41,\n",
      "          1.4364e-04,  3.5569e-03,  9.9247e-04,  9.0702e-03,  4.6956e-03,\n",
      "         -8.4068e-05,  5.6052e-45,  5.3039e-03,  5.6052e-45,  7.6307e-03,\n",
      "          5.6052e-45,  5.6052e-45,  1.3272e-03,  4.5749e-03,  7.1223e-03,\n",
      "          5.7246e-03,  4.0750e-03,  7.2216e-04,  4.0073e-03,  9.8559e-03,\n",
      "         -5.0025e-09,  4.0211e-03,  1.3251e-03,  4.5582e-03]]), 'exp_avg_sq': tensor([[2.5665e-04, 3.1712e-12, 2.9654e-04, 2.8869e-04, 4.4185e-05, 2.9530e-04,\n",
      "         1.6395e-04, 6.1672e-04, 3.4489e-04, 5.2121e-04, 6.2134e-05, 4.1793e-04,\n",
      "         2.2884e-04, 4.8788e-12, 1.3561e-04, 3.3826e-05, 1.5378e-04, 2.5769e-05,\n",
      "         6.7151e-05, 1.0473e-11, 7.8744e-04, 2.1002e-05, 3.0590e-04, 1.0911e-04,\n",
      "         1.2209e-04, 1.2826e-04, 4.0171e-04, 3.6258e-05, 5.8320e-05, 1.2371e-04,\n",
      "         5.1558e-04, 1.1759e-04, 2.6512e-16, 1.9359e-04, 1.6841e-04, 1.8973e-04,\n",
      "         1.8502e-04, 7.5978e-04, 8.1476e-04, 4.4069e-07, 4.1103e-04, 2.4873e-08,\n",
      "         2.4359e-04, 1.6393e-04, 1.1001e-09, 6.4412e-10, 5.4265e-05, 8.5631e-04,\n",
      "         3.8956e-05, 5.3950e-04, 2.8309e-05, 1.0026e-04, 3.5525e-04, 8.9180e-05,\n",
      "         1.1533e-04, 7.4382e-04, 6.7180e-05, 1.4590e-04, 9.8063e-10, 1.7102e-10,\n",
      "         2.6915e-05, 1.7320e-05, 1.1554e-04, 5.3066e-04, 7.6840e-04, 7.3572e-06,\n",
      "         2.1734e-25, 2.9044e-04, 1.9713e-11, 2.0938e-04, 1.3273e-10, 2.1226e-10,\n",
      "         1.0128e-04, 5.2160e-04, 2.3891e-03, 1.3421e-05, 7.9785e-04, 5.8365e-04,\n",
      "         9.2887e-05, 4.0659e-04, 1.3180e-07, 2.5333e-04, 3.7570e-05, 1.0787e-03],\n",
      "        [1.9189e-04, 2.3140e-11, 1.4135e-04, 1.8089e-04, 8.3807e-04, 1.1600e-03,\n",
      "         4.0525e-04, 2.2866e-04, 1.9325e-04, 3.2499e-04, 4.1172e-04, 3.8114e-04,\n",
      "         1.1196e-04, 4.9023e-14, 4.1660e-04, 8.9365e-04, 1.7795e-04, 6.1687e-10,\n",
      "         4.7207e-04, 2.4855e-17, 2.1411e-05, 5.5330e-05, 1.6332e-04, 8.7583e-04,\n",
      "         9.9368e-05, 6.0343e-04, 1.5541e-04, 5.9601e-05, 8.0572e-05, 7.6765e-04,\n",
      "         8.2084e-04, 1.8055e-03, 6.9894e-17, 1.7020e-04, 7.4587e-04, 1.0795e-04,\n",
      "         4.1450e-04, 6.5215e-05, 1.0021e-04, 1.7387e-05, 3.0047e-04, 2.0990e-08,\n",
      "         3.6211e-04, 1.2151e-04, 1.7972e-09, 1.0088e-08, 1.0723e-03, 4.7596e-04,\n",
      "         7.2796e-05, 1.2373e-04, 6.2403e-04, 1.2670e-03, 8.6988e-04, 1.9959e-04,\n",
      "         1.1573e-03, 3.5146e-05, 6.3454e-04, 2.6273e-04, 2.9882e-08, 2.5291e-11,\n",
      "         7.1863e-06, 1.0450e-04, 2.7987e-06, 1.0530e-04, 2.2482e-05, 2.9007e-04,\n",
      "         1.1274e-13, 1.6933e-04, 9.0548e-24, 5.7378e-05, 7.5118e-11, 2.6102e-11,\n",
      "         5.1141e-04, 4.0955e-04, 2.4330e-04, 4.7854e-04, 5.5480e-04, 7.2766e-04,\n",
      "         1.5324e-04, 1.7459e-04, 1.8729e-10, 1.0059e-03, 1.8670e-04, 2.1149e-04],\n",
      "        [3.2417e-04, 4.4465e-12, 7.8561e-04, 2.8938e-04, 3.3690e-04, 5.0669e-04,\n",
      "         7.8030e-04, 6.8206e-04, 3.1424e-04, 6.2008e-04, 1.2772e-03, 2.7920e-04,\n",
      "         4.6874e-04, 5.0312e-14, 6.5729e-04, 8.7465e-04, 5.7861e-04, 3.0529e-06,\n",
      "         8.4851e-04, 6.2184e-16, 5.8294e-04, 1.1704e-04, 6.1617e-04, 7.3852e-04,\n",
      "         2.7695e-04, 7.1533e-04, 1.2244e-03, 1.1130e-04, 4.6726e-04, 1.0211e-03,\n",
      "         7.9642e-04, 1.2759e-03, 1.0378e-10, 1.1735e-03, 1.1633e-03, 3.9935e-04,\n",
      "         4.2096e-04, 2.9655e-04, 8.1990e-04, 1.7506e-05, 5.0254e-04, 9.5923e-09,\n",
      "         4.4880e-04, 5.0702e-04, 4.0622e-09, 6.2408e-10, 9.1239e-04, 2.2122e-03,\n",
      "         4.2891e-04, 6.2126e-04, 9.5175e-04, 1.7041e-03, 8.3581e-04, 4.0044e-04,\n",
      "         1.3169e-03, 9.5358e-04, 3.5071e-04, 4.7586e-04, 3.3722e-09, 1.9964e-13,\n",
      "         3.5366e-05, 3.0556e-04, 1.9110e-05, 5.3862e-04, 6.9444e-04, 1.5064e-04,\n",
      "         1.5196e-15, 4.6259e-04, 3.1244e-15, 6.5337e-04, 1.1151e-09, 7.1280e-12,\n",
      "         1.4951e-03, 7.0178e-04, 2.0358e-03, 3.5286e-04, 1.4511e-03, 1.8461e-03,\n",
      "         2.9737e-04, 1.0026e-03, 2.7882e-07, 4.8463e-04, 2.6858e-04, 1.3172e-03],\n",
      "        [6.0648e-04, 3.8122e-12, 5.1574e-04, 7.7184e-04, 1.0545e-03, 1.4265e-03,\n",
      "         1.9085e-03, 1.8806e-03, 7.7361e-04, 1.9166e-03, 1.3358e-03, 3.5346e-04,\n",
      "         3.6891e-04, 5.3115e-12, 3.0975e-04, 3.9091e-04, 8.4818e-04, 1.0018e-05,\n",
      "         7.0407e-04, 1.1262e-13, 2.3679e-04, 6.9234e-04, 4.6354e-04, 1.3271e-03,\n",
      "         5.6049e-04, 1.9594e-03, 8.2801e-04, 2.2795e-04, 3.8779e-04, 1.2234e-03,\n",
      "         8.9399e-04, 1.7850e-03, 1.0302e-10, 1.0325e-03, 5.2470e-04, 6.6745e-04,\n",
      "         5.7858e-04, 1.1170e-03, 4.6166e-04, 1.1518e-05, 9.2968e-04, 2.7520e-07,\n",
      "         4.7086e-04, 2.6588e-04, 4.3317e-09, 2.4416e-09, 1.4644e-03, 2.8229e-03,\n",
      "         2.1805e-04, 2.0076e-03, 2.6019e-04, 1.6997e-03, 1.2334e-03, 8.2315e-04,\n",
      "         2.1348e-03, 7.4840e-04, 1.6904e-04, 7.8124e-04, 1.9962e-08, 2.1690e-11,\n",
      "         1.3281e-05, 4.4307e-04, 1.9519e-05, 9.9980e-04, 3.1729e-04, 1.3725e-04,\n",
      "         3.7425e-16, 1.9307e-03, 4.2168e-17, 3.9146e-04, 5.4346e-10, 4.2345e-11,\n",
      "         8.4814e-04, 1.5429e-03, 1.7422e-03, 9.0399e-04, 1.1933e-03, 1.1302e-03,\n",
      "         2.5795e-03, 2.9520e-03, 8.3668e-08, 9.3914e-04, 3.1614e-04, 1.1910e-03],\n",
      "        [2.1995e-03, 6.3449e-12, 1.8536e-03, 1.8739e-03, 2.4682e-04, 2.1727e-03,\n",
      "         7.4705e-04, 2.8710e-03, 2.3357e-04, 4.0071e-04, 1.3926e-03, 3.2862e-04,\n",
      "         6.1477e-04, 4.8329e-10, 2.8413e-05, 4.8877e-04, 3.5117e-05, 3.3041e-05,\n",
      "         1.5125e-03, 2.5507e-15, 6.2234e-04, 1.0487e-04, 2.0535e-05, 9.3372e-04,\n",
      "         4.9115e-04, 5.6868e-04, 1.5412e-03, 3.1962e-05, 3.6738e-04, 4.1075e-04,\n",
      "         4.1440e-04, 1.7620e-03, 2.1018e-17, 4.0735e-05, 2.1419e-04, 6.5641e-04,\n",
      "         1.4468e-03, 4.6875e-04, 3.8707e-04, 4.2975e-06, 1.7475e-03, 4.7595e-07,\n",
      "         2.1952e-03, 1.8437e-03, 1.4614e-09, 3.4929e-09, 7.9729e-04, 3.3232e-04,\n",
      "         2.6253e-04, 1.4219e-04, 2.6791e-04, 5.1614e-04, 7.1263e-04, 7.7010e-06,\n",
      "         1.6649e-03, 2.8326e-04, 2.2807e-03, 3.7937e-05, 2.0923e-08, 2.6734e-11,\n",
      "         4.3360e-05, 1.0670e-04, 6.1881e-06, 1.8856e-03, 1.4784e-03, 1.4104e-03,\n",
      "         1.4677e-17, 6.1698e-05, 1.3747e-16, 2.2249e-03, 1.2134e-10, 4.4722e-12,\n",
      "         3.6897e-05, 1.6321e-04, 2.0431e-03, 9.4809e-04, 1.3474e-03, 3.9475e-04,\n",
      "         6.7826e-05, 8.4293e-04, 5.6086e-07, 1.5067e-03, 5.1619e-04, 4.3105e-04],\n",
      "        [7.3979e-04, 7.8344e-12, 8.2496e-04, 8.3752e-04, 5.3697e-04, 1.1590e-03,\n",
      "         7.5152e-04, 1.5833e-03, 9.9237e-04, 1.8995e-03, 2.5204e-04, 8.4666e-04,\n",
      "         2.3700e-04, 1.1055e-13, 2.3524e-04, 1.6554e-04, 6.5100e-04, 3.6412e-05,\n",
      "         2.1947e-04, 1.9864e-11, 3.5151e-04, 3.0407e-04, 4.2712e-04, 1.0173e-03,\n",
      "         7.1682e-04, 1.7361e-03, 7.0843e-04, 4.9331e-04, 1.1137e-04, 8.6923e-04,\n",
      "         1.5085e-03, 1.3955e-03, 1.6371e-14, 1.2707e-04, 3.9442e-04, 4.6805e-04,\n",
      "         1.6019e-03, 1.3654e-03, 5.7028e-04, 9.3185e-06, 7.9826e-04, 1.4059e-07,\n",
      "         6.3442e-04, 9.0631e-04, 5.1355e-09, 5.2316e-09, 3.7165e-04, 1.8434e-03,\n",
      "         9.7470e-05, 1.6608e-03, 1.3657e-04, 2.5696e-04, 1.1174e-03, 5.9669e-04,\n",
      "         1.2950e-03, 2.6840e-04, 2.0024e-04, 3.4641e-04, 1.1593e-08, 6.1409e-12,\n",
      "         3.1500e-05, 3.2598e-05, 7.0904e-05, 9.0592e-04, 4.6656e-04, 1.4311e-04,\n",
      "         4.7390e-16, 1.4144e-03, 9.3163e-18, 4.4352e-04, 9.8129e-11, 8.0712e-11,\n",
      "         3.1215e-04, 8.3697e-04, 3.1205e-03, 2.1450e-04, 1.7777e-03, 1.3546e-03,\n",
      "         1.7759e-03, 1.5716e-03, 9.0676e-08, 1.1653e-03, 7.8860e-05, 1.2726e-03],\n",
      "        [1.1431e-04, 2.1406e-10, 8.4674e-04, 9.9822e-05, 1.5548e-04, 2.4032e-04,\n",
      "         2.6604e-05, 7.3532e-04, 1.5278e-04, 1.4531e-04, 1.3897e-04, 4.0064e-04,\n",
      "         4.6450e-04, 4.3736e-14, 5.8860e-05, 3.6061e-04, 6.5288e-05, 5.1335e-06,\n",
      "         1.7268e-04, 4.2439e-14, 5.7134e-04, 2.0147e-05, 8.6594e-05, 5.0050e-04,\n",
      "         3.7205e-04, 3.0235e-04, 7.6241e-04, 2.7089e-04, 1.0202e-04, 3.0445e-04,\n",
      "         1.1261e-03, 5.4048e-04, 3.0282e-17, 3.1981e-05, 4.1340e-04, 4.8295e-05,\n",
      "         1.0192e-03, 6.0829e-04, 8.8295e-04, 3.9397e-06, 4.9007e-04, 2.4013e-07,\n",
      "         7.0075e-04, 9.7057e-04, 1.7107e-09, 2.9492e-10, 9.0966e-05, 8.1864e-04,\n",
      "         1.4074e-04, 3.5208e-04, 2.7937e-04, 7.2550e-05, 7.3590e-04, 5.7128e-05,\n",
      "         2.1485e-04, 2.3618e-04, 2.4314e-04, 4.6406e-05, 1.0507e-08, 2.3301e-11,\n",
      "         4.5986e-05, 5.4415e-07, 3.3120e-05, 2.4717e-04, 7.2692e-04, 4.5143e-05,\n",
      "         1.7211e-17, 2.0027e-04, 1.8938e-11, 3.4769e-04, 1.6052e-11, 1.0384e-11,\n",
      "         4.8030e-05, 9.4930e-05, 3.2900e-03, 5.1608e-05, 2.1838e-03, 1.2636e-03,\n",
      "         1.1108e-04, 8.3137e-05, 4.1112e-08, 4.5765e-04, 4.3548e-05, 1.0560e-03],\n",
      "        [1.8187e-03, 9.3971e-12, 8.6073e-04, 1.7277e-03, 1.8406e-04, 1.3381e-03,\n",
      "         1.8725e-03, 1.7702e-03, 3.5334e-04, 1.2172e-03, 2.2416e-03, 2.2306e-04,\n",
      "         2.8175e-04, 2.0143e-11, 6.3275e-04, 7.1736e-04, 7.0915e-04, 6.0142e-05,\n",
      "         8.6025e-04, 4.6303e-13, 1.7853e-04, 9.6686e-05, 3.5979e-04, 6.5863e-04,\n",
      "         1.1111e-04, 3.5358e-04, 7.1979e-04, 1.6260e-05, 9.1986e-05, 5.1087e-04,\n",
      "         1.5605e-04, 1.5908e-03, 2.5931e-20, 5.4491e-04, 2.8568e-04, 1.1884e-03,\n",
      "         2.3947e-04, 4.6431e-04, 1.2382e-04, 7.0683e-06, 1.3247e-03, 4.3471e-07,\n",
      "         4.4812e-04, 3.0959e-04, 1.5382e-09, 3.9545e-11, 1.5885e-03, 7.7970e-04,\n",
      "         8.0779e-05, 1.4602e-04, 4.3244e-04, 1.7854e-03, 5.5764e-04, 8.2133e-05,\n",
      "         2.1277e-03, 3.7737e-04, 6.0576e-04, 2.7751e-04, 2.9594e-10, 2.4256e-11,\n",
      "         1.1507e-05, 7.0036e-04, 3.1026e-05, 2.3918e-03, 1.2178e-03, 3.4660e-04,\n",
      "         6.7668e-17, 1.2037e-04, 5.4610e-17, 1.0131e-03, 6.6254e-12, 3.1806e-11,\n",
      "         1.1251e-03, 9.2634e-04, 6.5629e-04, 7.6299e-04, 3.1277e-04, 3.8987e-04,\n",
      "         1.2397e-04, 2.0131e-03, 1.4435e-07, 1.6107e-03, 3.8005e-04, 3.8744e-04],\n",
      "        [7.3061e-04, 5.1440e-12, 1.2945e-03, 1.2554e-03, 8.4886e-04, 2.1939e-03,\n",
      "         1.0024e-03, 1.4742e-03, 9.1039e-04, 1.4968e-03, 7.3389e-04, 1.0098e-03,\n",
      "         1.0194e-04, 5.7156e-12, 3.3400e-04, 7.0826e-04, 3.8276e-04, 6.2941e-06,\n",
      "         9.9422e-04, 1.8465e-13, 3.5046e-04, 3.5798e-04, 1.4642e-04, 1.1971e-03,\n",
      "         3.7967e-04, 2.0510e-03, 1.5631e-03, 1.8018e-04, 2.2581e-04, 8.4262e-04,\n",
      "         1.7783e-03, 2.3164e-03, 3.0117e-13, 6.3489e-04, 1.3631e-03, 9.3934e-04,\n",
      "         1.7934e-03, 3.6394e-04, 6.5695e-04, 1.5194e-05, 1.0325e-03, 1.1956e-08,\n",
      "         1.0234e-03, 6.3399e-04, 3.7898e-10, 1.4154e-08, 1.2239e-03, 2.4641e-03,\n",
      "         8.1378e-05, 1.6719e-03, 4.2087e-04, 1.8085e-03, 2.2697e-03, 1.7840e-04,\n",
      "         1.3413e-03, 7.1400e-04, 3.9452e-04, 3.9239e-04, 5.8364e-11, 2.5989e-11,\n",
      "         3.1644e-05, 2.1576e-04, 1.3164e-05, 6.0445e-04, 2.5507e-04, 2.4028e-04,\n",
      "         5.6435e-14, 1.6747e-03, 1.2010e-18, 4.2046e-04, 4.3027e-10, 1.4072e-11,\n",
      "         7.6643e-04, 1.0740e-03, 2.0870e-03, 9.3364e-04, 9.5545e-04, 1.4886e-03,\n",
      "         8.8615e-04, 1.6341e-03, 2.9985e-07, 1.0135e-03, 6.7763e-04, 1.6836e-03],\n",
      "        [3.6452e-03, 1.3610e-12, 1.8518e-03, 3.5693e-03, 3.3577e-04, 3.2312e-03,\n",
      "         2.6052e-03, 4.7483e-03, 7.5508e-04, 1.3643e-03, 2.4567e-03, 5.3572e-04,\n",
      "         2.8057e-04, 8.1464e-10, 1.8963e-04, 4.9774e-04, 3.7312e-04, 6.7358e-05,\n",
      "         1.7412e-03, 1.3316e-15, 5.5068e-04, 2.3346e-04, 1.3771e-04, 1.3920e-03,\n",
      "         6.7752e-04, 9.5274e-04, 1.7431e-03, 9.2154e-05, 1.3166e-04, 6.9028e-04,\n",
      "         2.9928e-04, 2.2612e-03, 1.0595e-17, 1.6904e-04, 1.5321e-04, 1.8774e-03,\n",
      "         1.2596e-03, 8.4161e-04, 2.5266e-04, 8.6017e-06, 2.2575e-03, 5.7013e-07,\n",
      "         2.0023e-03, 1.2773e-03, 5.1656e-09, 2.9740e-11, 1.6692e-03, 1.0387e-03,\n",
      "         6.9106e-05, 6.5875e-04, 1.2247e-04, 1.5339e-03, 1.3708e-03, 1.1435e-04,\n",
      "         2.8682e-03, 6.3005e-04, 2.1095e-03, 1.8518e-04, 3.7768e-09, 3.5457e-11,\n",
      "         1.1970e-05, 4.8776e-04, 3.2145e-05, 3.6146e-03, 1.6830e-03, 1.4937e-03,\n",
      "         3.6382e-18, 6.0574e-04, 5.9712e-18, 2.4684e-03, 1.2964e-11, 3.9399e-11,\n",
      "         2.4095e-04, 1.0905e-03, 1.9214e-03, 1.5666e-03, 3.6711e-04, 4.3035e-04,\n",
      "         7.4256e-04, 3.1427e-03, 8.1581e-07, 2.2856e-03, 9.0323e-04, 7.7006e-04]])}, 5: {'step': 3000, 'exp_avg': tensor([-0.0011,  0.0009,  0.0016, -0.0014,  0.0017,  0.0016, -0.0016, -0.0005,\n",
      "        -0.0031,  0.0017]), 'exp_avg_sq': tensor([3.6519e-05, 4.8181e-05, 8.3200e-05, 1.0609e-04, 8.6689e-05, 9.0971e-05,\n",
      "        4.8177e-05, 7.8517e-05, 1.0693e-04, 1.2607e-04])}}\n",
      "param_groups \t [{'lr': 0.001, 'betas': (0.9, 0.999), 'eps': 1e-08, 'weight_decay': 0, 'amsgrad': False, 'params': [0, 1, 2, 3, 4, 5]}]\n"
     ]
    }
   ],
   "source": [
    "## YOUR CODE HERE ##\n",
    "# Print model's state_dict\n",
    "print(\"Model's state_dict:\")\n",
    "for param_tensor in net.state_dict():\n",
    "    print(param_tensor, \"\\t\", net.state_dict()[param_tensor].size())\n",
    "\n",
    "#Print optimizer's state_dict\n",
    "print(\"Optimizer's state_dict:\")\n",
    "for var_name in optimizer.state_dict():\n",
    "    print(var_name, \"\\t\", optimizer.state_dict()[var_name])\n",
    "\n",
    "PATH = \"./data\"\n",
    "torch.save(net.state_dict(), os.path.join(PATH,\"mymodel1statedic.pth\"))  #Save/Load state_dict (Recommended)\n",
    "torch.save(net, os.path.join(PATH,\"mymodel1.pth\"))   #Save/Load Entire Model"
   ]
  },
  {
   "cell_type": "code",
   "execution_count": 12,
   "metadata": {},
   "outputs": [
    {
     "data": {
      "text/plain": [
       "Net(\n",
       "  (fc1): Linear(in_features=784, out_features=120, bias=True)\n",
       "  (fc2): Linear(in_features=120, out_features=84, bias=True)\n",
       "  (fc3): Linear(in_features=84, out_features=10, bias=True)\n",
       ")"
      ]
     },
     "execution_count": 12,
     "metadata": {},
     "output_type": "execute_result"
    }
   ],
   "source": [
    "#load model again for inference, knote Model class must be defined somewhere\n",
    "mymodelagin = torch.load(os.path.join(PATH,\"mymodel1.pth\"))\n",
    "mymodelagin.eval()\n",
    "mymodelagin"
   ]
  },
  {
   "cell_type": "markdown",
   "metadata": {},
   "source": [
    "# Contextualize your model – based on the results from Yann LeCun’s webpage, how does your model rank?\n",
    "For training I used neural network with 1 input layer, 2 hidden layers, and 1 output layer, with RELU() activation function on the hidden layers only. also i used  Adam optimizer with learning rate = 0.001, and crossentropy loss function. I got test accuracy of 96.81% and test loss = 0.09708. My model ranked better than the published work in Yann LeCun’s webpage"
   ]
  }
 ],
 "metadata": {
  "kernelspec": {
   "display_name": "Python 3",
   "language": "python",
   "name": "python3"
  },
  "language_info": {
   "codemirror_mode": {
    "name": "ipython",
    "version": 3
   },
   "file_extension": ".py",
   "mimetype": "text/x-python",
   "name": "python",
   "nbconvert_exporter": "python",
   "pygments_lexer": "ipython3",
   "version": "3.8.8"
  }
 },
 "nbformat": 4,
 "nbformat_minor": 4
}
